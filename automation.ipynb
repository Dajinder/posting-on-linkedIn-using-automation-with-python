{
 "cells": [
  {
   "cell_type": "code",
   "execution_count": 5,
   "metadata": {},
   "outputs": [],
   "source": [
    "from selenium import webdriver\n",
    "import time"
   ]
  },
  {
   "cell_type": "code",
   "execution_count": 40,
   "metadata": {},
   "outputs": [],
   "source": [
    "\n",
    "driver  = webdriver.Chrome(\"C:\\\\Users\\\\DELL PC\\\\Downloads\\\\chromedriver_win32\\\\chromedriver.exe\")\n",
    "time.sleep(8)\n",
    "driver.get('https:\\\\Linkedin.com')\n",
    "\n",
    "\n",
    "time.sleep(4)\n",
    "\n",
    "\n",
    "signin_button = driver.find_element_by_xpath('/html/body/nav/a[3]')\n",
    "time.sleep(4)\n",
    "signin_button.click()\n",
    "\n",
    "\n",
    "time.sleep(4)\n",
    "\n",
    "\n",
    "email = driver.find_element_by_xpath('/html/body/div/main/div[2]/form/div[1]/input')\n",
    "email.send_keys('s.dajinder@yahoo.com')\n",
    "\n",
    "\n",
    "time.sleep(4)\n",
    "\n",
    "\n",
    "password = driver.find_element_by_xpath('/html/body/div/main/div[2]/form/div[2]/input')\n",
    "password.send_keys('Rajay@123')\n",
    "\n",
    "\n",
    "time.sleep(4)\n",
    "\n",
    "\n",
    "confirm_signin = driver.find_element_by_xpath('//*[@id=\"app__container\"]/main/div[2]/form/div[3]/button')\n",
    "time.sleep(4)\n",
    "confirm_signin.click()\n",
    "\n",
    "time.sleep(4)\n",
    "\n",
    "addPostButton = driver.find_element_by_xpath('/html/body/div[9]/div[4]/div/div/div/div/div[1]/div/div[1]/button[1]')\n",
    "time.sleep(3)\n",
    "addPostButton.click()\n",
    "\n",
    "\n",
    "write_post = driver.find_element_by_xpath('/html/body/div[9]/div[4]/div/div/div/div/div[1]/div/div[2]/div/div[1]/div[3]/div/div/div/div/div/div[1]')\n",
    "write_post.send_keys('this post is uploaded using automation with python')\n",
    "\n",
    "time.sleep(4)\n",
    "\n",
    "\n",
    "\n",
    "post_button = driver.find_element_by_xpath('/html/body/div[9]/div[4]/div/div/div/div/div[1]/div/div[2]/div/div[2]/div[2]/button')\n",
    "time.sleep(2)\n",
    "post_button.click()\n",
    "\n",
    "\n",
    "cross_button = driver.find_element_by_id('ember436')\n",
    "time.sleep(2)\n",
    "cross_button.click()\n",
    "\n"
   ]
  },
  {
   "cell_type": "code",
   "execution_count": null,
   "metadata": {
    "scrolled": true
   },
   "outputs": [],
   "source": []
  },
  {
   "cell_type": "code",
   "execution_count": null,
   "metadata": {},
   "outputs": [],
   "source": []
  },
  {
   "cell_type": "code",
   "execution_count": null,
   "metadata": {},
   "outputs": [],
   "source": []
  }
 ],
 "metadata": {
  "kernelspec": {
   "display_name": "Python 3",
   "language": "python",
   "name": "python3"
  },
  "language_info": {
   "codemirror_mode": {
    "name": "ipython",
    "version": 3
   },
   "file_extension": ".py",
   "mimetype": "text/x-python",
   "name": "python",
   "nbconvert_exporter": "python",
   "pygments_lexer": "ipython3",
   "version": "3.7.3"
  }
 },
 "nbformat": 4,
 "nbformat_minor": 2
}
