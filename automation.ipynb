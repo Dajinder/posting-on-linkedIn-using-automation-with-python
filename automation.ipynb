{
 "cells": [
  {
   "cell_type": "code",
   "execution_count": 53,
   "metadata": {},
   "outputs": [],
   "source": [
    "from selenium import webdriver\n",
    "import time\n",
    "import pyautogui"
   ]
  },
  {
   "cell_type": "code",
   "execution_count": 67,
   "metadata": {},
   "outputs": [],
   "source": [
    "\n",
    "driver  = webdriver.Chrome(\"C:\\\\Users\\\\DELL PC\\\\Downloads\\\\chromedriver_win32\\\\chromedriver.exe\")\n",
    "driver.maximize_window() \n",
    "time.sleep(5)\n",
    "driver.get('https:\\\\Linkedin.com')\n",
    "\n",
    "\n",
    "time.sleep(3)\n",
    "\n",
    "signin_button = driver.find_element_by_xpath('/html/body/nav/a[3]')\n",
    "signin_button.click()\n",
    "\n",
    "\n",
    "time.sleep(3)\n",
    "\n",
    "\n",
    "email = driver.find_element_by_xpath('/html/body/div/main/div[2]/form/div[1]/input')\n",
    "email.send_keys('s.dajinder@yahoo.com')\n",
    "\n",
    "\n",
    "time.sleep(3)\n",
    "\n",
    "\n",
    "password = driver.find_element_by_xpath('/html/body/div/main/div[2]/form/div[2]/input')\n",
    "password.send_keys('Rajay@123')\n",
    "\n",
    "\n",
    "time.sleep(3)\n",
    "\n",
    "driver.implicitly_wait(5)\n",
    "confirm_signin = driver.find_element_by_xpath('/html/body/div/main/div[2]/form/div[4]/button')\n",
    "confirm_signin.click()\n",
    "\n",
    "time.sleep(3)\n",
    "\n",
    "addPostButton = driver.find_element_by_xpath('/html/body/div[9]/div[4]/div/div/div/div/div[1]/div/div[1]/button[1]')\n",
    "addPostButton.click()\n",
    "\n",
    "time.sleep(3)\n",
    "\n",
    "write_post = driver.find_element_by_xpath('/html/body/div[9]/div[4]/div/div/div/div/div[1]/div/div[2]/div/div[1]/div[3]/div/div/div/div/div/div[1]')\n",
    "write_post.send_keys('This Post and video is uploaded using automation !!! ')\n",
    "\n",
    "time.sleep(3)\n",
    "\n",
    "\n",
    "video_button = driver.find_element_by_xpath('/html/body/div[9]/div[4]/div/div/div/div/div[1]/div/div[2]/div/div[2]/div[1]/button[2]')\n",
    "video_button.click()\n",
    "\n",
    "time.sleep(3)\n",
    "\n",
    "pyautogui.typewrite('automation_video.mp4')\n",
    "\n",
    "time.sleep(3)\n",
    "\n",
    "pyautogui.press('enter')\n",
    "\n",
    "time.sleep(3)\n",
    "\n",
    "next_button = driver.find_element_by_xpath('/html/body/div[9]/div[4]/div/div/div/div/div[1]/div/div[2]/div/div/footer/div/button[2]')\n",
    "next_button.click()\n",
    "\n",
    "time.sleep(3)\n",
    "\n",
    "post_button = driver.find_element_by_xpath('/html/body/div[9]/div[4]/div/div/div/div/div[1]/div/div[2]/div/div[2]/div[2]/button')\n",
    "post_button.click()\n"
   ]
  },
  {
   "cell_type": "code",
   "execution_count": null,
   "metadata": {
    "scrolled": true
   },
   "outputs": [],
   "source": []
  },
  {
   "cell_type": "code",
   "execution_count": null,
   "metadata": {},
   "outputs": [],
   "source": []
  },
  {
   "cell_type": "code",
   "execution_count": null,
   "metadata": {},
   "outputs": [],
   "source": []
  }
 ],
 "metadata": {
  "kernelspec": {
   "display_name": "Python 3",
   "language": "python",
   "name": "python3"
  },
  "language_info": {
   "codemirror_mode": {
    "name": "ipython",
    "version": 3
   },
   "file_extension": ".py",
   "mimetype": "text/x-python",
   "name": "python",
   "nbconvert_exporter": "python",
   "pygments_lexer": "ipython3",
   "version": "3.7.3"
  }
 },
 "nbformat": 4,
 "nbformat_minor": 2
}
